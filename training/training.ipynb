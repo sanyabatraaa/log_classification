{
 "cells": [
  {
   "cell_type": "code",
   "id": "initial_id",
   "metadata": {
    "collapsed": true,
    "ExecuteTime": {
     "end_time": "2025-03-22T04:11:00.984681Z",
     "start_time": "2025-03-22T04:10:59.411467Z"
    }
   },
   "source": [
    "import pandas as pd\n",
    "df= pd.read_csv('dataset/synthetic_logs.csv')\n",
    "df"
   ],
   "outputs": [
    {
     "data": {
      "text/plain": [
       "                timestamp           source  \\\n",
       "0     2025-06-27 07:20:25        ModernCRM   \n",
       "1         1/14/2025 23:07        ModernCRM   \n",
       "2          1/17/2025 1:29  AnalyticsEngine   \n",
       "3     2025-07-12 00:24:16         ModernHR   \n",
       "4     2025-06-02 18:25:23    BillingSystem   \n",
       "...                   ...              ...   \n",
       "2405  2025-08-13 07:29:25         ModernHR   \n",
       "2406       1/11/2025 5:32         ModernHR   \n",
       "2407  2025-08-03 03:07:47    ThirdPartyAPI   \n",
       "2408     11/11/2025 11:52    BillingSystem   \n",
       "2409     12/25/2025 13:21  AnalyticsEngine   \n",
       "\n",
       "                                            log_message    target_label  \\\n",
       "0     nova.osapi_compute.wsgi.server [req-b9718cd8-f...     HTTP Status   \n",
       "1        Email service experiencing issues with sending  Critical Error   \n",
       "2             Unauthorized access to data was attempted  Security Alert   \n",
       "3     nova.osapi_compute.wsgi.server [req-4895c258-b...     HTTP Status   \n",
       "4     nova.osapi_compute.wsgi.server [req-ee8bc8ba-9...     HTTP Status   \n",
       "...                                                 ...             ...   \n",
       "2405  nova.osapi_compute.wsgi.server [req-96c3ec98-2...     HTTP Status   \n",
       "2406  User 3844 account experienced multiple failed ...  Security Alert   \n",
       "2407  nova.metadata.wsgi.server [req-b6d4a270-accb-4...     HTTP Status   \n",
       "2408      Email service affected by failed transmission  Critical Error   \n",
       "2409  Repeated failed login attempts occurred for us...  Security Alert   \n",
       "\n",
       "     complexity  \n",
       "0          bert  \n",
       "1          bert  \n",
       "2          bert  \n",
       "3          bert  \n",
       "4          bert  \n",
       "...         ...  \n",
       "2405       bert  \n",
       "2406       bert  \n",
       "2407       bert  \n",
       "2408       bert  \n",
       "2409       bert  \n",
       "\n",
       "[2410 rows x 5 columns]"
      ],
      "text/html": [
       "<div>\n",
       "<style scoped>\n",
       "    .dataframe tbody tr th:only-of-type {\n",
       "        vertical-align: middle;\n",
       "    }\n",
       "\n",
       "    .dataframe tbody tr th {\n",
       "        vertical-align: top;\n",
       "    }\n",
       "\n",
       "    .dataframe thead th {\n",
       "        text-align: right;\n",
       "    }\n",
       "</style>\n",
       "<table border=\"1\" class=\"dataframe\">\n",
       "  <thead>\n",
       "    <tr style=\"text-align: right;\">\n",
       "      <th></th>\n",
       "      <th>timestamp</th>\n",
       "      <th>source</th>\n",
       "      <th>log_message</th>\n",
       "      <th>target_label</th>\n",
       "      <th>complexity</th>\n",
       "    </tr>\n",
       "  </thead>\n",
       "  <tbody>\n",
       "    <tr>\n",
       "      <th>0</th>\n",
       "      <td>2025-06-27 07:20:25</td>\n",
       "      <td>ModernCRM</td>\n",
       "      <td>nova.osapi_compute.wsgi.server [req-b9718cd8-f...</td>\n",
       "      <td>HTTP Status</td>\n",
       "      <td>bert</td>\n",
       "    </tr>\n",
       "    <tr>\n",
       "      <th>1</th>\n",
       "      <td>1/14/2025 23:07</td>\n",
       "      <td>ModernCRM</td>\n",
       "      <td>Email service experiencing issues with sending</td>\n",
       "      <td>Critical Error</td>\n",
       "      <td>bert</td>\n",
       "    </tr>\n",
       "    <tr>\n",
       "      <th>2</th>\n",
       "      <td>1/17/2025 1:29</td>\n",
       "      <td>AnalyticsEngine</td>\n",
       "      <td>Unauthorized access to data was attempted</td>\n",
       "      <td>Security Alert</td>\n",
       "      <td>bert</td>\n",
       "    </tr>\n",
       "    <tr>\n",
       "      <th>3</th>\n",
       "      <td>2025-07-12 00:24:16</td>\n",
       "      <td>ModernHR</td>\n",
       "      <td>nova.osapi_compute.wsgi.server [req-4895c258-b...</td>\n",
       "      <td>HTTP Status</td>\n",
       "      <td>bert</td>\n",
       "    </tr>\n",
       "    <tr>\n",
       "      <th>4</th>\n",
       "      <td>2025-06-02 18:25:23</td>\n",
       "      <td>BillingSystem</td>\n",
       "      <td>nova.osapi_compute.wsgi.server [req-ee8bc8ba-9...</td>\n",
       "      <td>HTTP Status</td>\n",
       "      <td>bert</td>\n",
       "    </tr>\n",
       "    <tr>\n",
       "      <th>...</th>\n",
       "      <td>...</td>\n",
       "      <td>...</td>\n",
       "      <td>...</td>\n",
       "      <td>...</td>\n",
       "      <td>...</td>\n",
       "    </tr>\n",
       "    <tr>\n",
       "      <th>2405</th>\n",
       "      <td>2025-08-13 07:29:25</td>\n",
       "      <td>ModernHR</td>\n",
       "      <td>nova.osapi_compute.wsgi.server [req-96c3ec98-2...</td>\n",
       "      <td>HTTP Status</td>\n",
       "      <td>bert</td>\n",
       "    </tr>\n",
       "    <tr>\n",
       "      <th>2406</th>\n",
       "      <td>1/11/2025 5:32</td>\n",
       "      <td>ModernHR</td>\n",
       "      <td>User 3844 account experienced multiple failed ...</td>\n",
       "      <td>Security Alert</td>\n",
       "      <td>bert</td>\n",
       "    </tr>\n",
       "    <tr>\n",
       "      <th>2407</th>\n",
       "      <td>2025-08-03 03:07:47</td>\n",
       "      <td>ThirdPartyAPI</td>\n",
       "      <td>nova.metadata.wsgi.server [req-b6d4a270-accb-4...</td>\n",
       "      <td>HTTP Status</td>\n",
       "      <td>bert</td>\n",
       "    </tr>\n",
       "    <tr>\n",
       "      <th>2408</th>\n",
       "      <td>11/11/2025 11:52</td>\n",
       "      <td>BillingSystem</td>\n",
       "      <td>Email service affected by failed transmission</td>\n",
       "      <td>Critical Error</td>\n",
       "      <td>bert</td>\n",
       "    </tr>\n",
       "    <tr>\n",
       "      <th>2409</th>\n",
       "      <td>12/25/2025 13:21</td>\n",
       "      <td>AnalyticsEngine</td>\n",
       "      <td>Repeated failed login attempts occurred for us...</td>\n",
       "      <td>Security Alert</td>\n",
       "      <td>bert</td>\n",
       "    </tr>\n",
       "  </tbody>\n",
       "</table>\n",
       "<p>2410 rows × 5 columns</p>\n",
       "</div>"
      ]
     },
     "execution_count": 2,
     "metadata": {},
     "output_type": "execute_result"
    }
   ],
   "execution_count": 2
  },
  {
   "metadata": {
    "ExecuteTime": {
     "end_time": "2025-03-22T05:01:44.785310Z",
     "start_time": "2025-03-22T05:01:44.775253Z"
    }
   },
   "cell_type": "code",
   "source": "df.shape",
   "id": "1b982d66bec4c1a9",
   "outputs": [
    {
     "data": {
      "text/plain": [
       "(2410, 7)"
      ]
     },
     "execution_count": 45,
     "metadata": {},
     "output_type": "execute_result"
    }
   ],
   "execution_count": 45
  },
  {
   "metadata": {
    "ExecuteTime": {
     "end_time": "2025-03-22T04:11:01.127619Z",
     "start_time": "2025-03-22T04:11:01.116262Z"
    }
   },
   "cell_type": "code",
   "source": "df.source.unique()",
   "id": "f5b8cf8a1960a305",
   "outputs": [
    {
     "data": {
      "text/plain": [
       "array(['ModernCRM', 'AnalyticsEngine', 'ModernHR', 'BillingSystem',\n",
       "       'ThirdPartyAPI', 'LegacyCRM'], dtype=object)"
      ]
     },
     "execution_count": 3,
     "metadata": {},
     "output_type": "execute_result"
    }
   ],
   "execution_count": 3
  },
  {
   "metadata": {
    "ExecuteTime": {
     "end_time": "2025-03-22T05:17:33.298781Z",
     "start_time": "2025-03-22T05:17:33.286735Z"
    }
   },
   "cell_type": "code",
   "source": [
    "unique_counts = df['source'].value_counts()\n",
    "print(unique_counts)\n"
   ],
   "id": "94881fe4fa1d6697",
   "outputs": [
    {
     "name": "stdout",
     "output_type": "stream",
     "text": [
      "source\n",
      "ThirdPartyAPI      496\n",
      "ModernHR           492\n",
      "BillingSystem      479\n",
      "AnalyticsEngine    471\n",
      "ModernCRM          465\n",
      "LegacyCRM            7\n",
      "Name: count, dtype: int64\n"
     ]
    }
   ],
   "execution_count": 61
  },
  {
   "metadata": {
    "ExecuteTime": {
     "end_time": "2025-03-22T04:11:01.267161Z",
     "start_time": "2025-03-22T04:11:01.258010Z"
    }
   },
   "cell_type": "code",
   "source": "df.target_label.unique()",
   "id": "f74ae5518c8630a9",
   "outputs": [
    {
     "data": {
      "text/plain": [
       "array(['HTTP Status', 'Critical Error', 'Security Alert', 'Error',\n",
       "       'System Notification', 'Resource Usage', 'User Action',\n",
       "       'Workflow Error', 'Deprecation Warning'], dtype=object)"
      ]
     },
     "execution_count": 4,
     "metadata": {},
     "output_type": "execute_result"
    }
   ],
   "execution_count": 4
  },
  {
   "metadata": {
    "ExecuteTime": {
     "end_time": "2025-03-22T05:18:04.252274Z",
     "start_time": "2025-03-22T05:18:04.241868Z"
    }
   },
   "cell_type": "code",
   "source": [
    "unique_counts = df['target_label'].value_counts()\n",
    "print(unique_counts)\n"
   ],
   "id": "d07d1d2d56617483",
   "outputs": [
    {
     "name": "stdout",
     "output_type": "stream",
     "text": [
      "target_label\n",
      "HTTP Status            1017\n",
      "Security Alert          371\n",
      "System Notification     356\n",
      "Error                   177\n",
      "Resource Usage          177\n",
      "Critical Error          161\n",
      "User Action             144\n",
      "Workflow Error            4\n",
      "Deprecation Warning       3\n",
      "Name: count, dtype: int64\n"
     ]
    }
   ],
   "execution_count": 62
  },
  {
   "metadata": {
    "ExecuteTime": {
     "end_time": "2025-03-22T04:11:16.815150Z",
     "start_time": "2025-03-22T04:11:01.540619Z"
    }
   },
   "cell_type": "code",
   "source": [
    "from sklearn.cluster import DBSCAN\n",
    "from sentence_transformers import SentenceTransformer"
   ],
   "id": "de7353e7bc72753f",
   "outputs": [
    {
     "name": "stderr",
     "output_type": "stream",
     "text": [
      "C:\\Users\\sanya\\PycharmProjects\\log\\.venv\\Lib\\site-packages\\tqdm\\auto.py:21: TqdmWarning: IProgress not found. Please update jupyter and ipywidgets. See https://ipywidgets.readthedocs.io/en/stable/user_install.html\n",
      "  from .autonotebook import tqdm as notebook_tqdm\n"
     ]
    }
   ],
   "execution_count": 5
  },
  {
   "metadata": {
    "ExecuteTime": {
     "end_time": "2025-03-22T04:11:50.581285Z",
     "start_time": "2025-03-22T04:11:16.883946Z"
    }
   },
   "cell_type": "code",
   "source": [
    "model = SentenceTransformer('all-MiniLM-L6-v2')\n",
    "embeddings = model.encode(df['log_message'].tolist())"
   ],
   "id": "5cb5f599663986a2",
   "outputs": [],
   "execution_count": 6
  },
  {
   "metadata": {
    "ExecuteTime": {
     "end_time": "2025-03-22T04:11:50.605401Z",
     "start_time": "2025-03-22T04:11:50.597852Z"
    }
   },
   "cell_type": "code",
   "source": "embeddings[:5]",
   "id": "29af762e4e323f85",
   "outputs": [
    {
     "data": {
      "text/plain": [
       "array([[-0.10293963,  0.03354597, -0.02202606, ...,  0.00457792,\n",
       "        -0.04259715,  0.00322619],\n",
       "       [ 0.00804572, -0.03573923,  0.04938739, ...,  0.01538319,\n",
       "        -0.06230947, -0.02774666],\n",
       "       [-0.00908224,  0.13003924, -0.05275568, ...,  0.02014104,\n",
       "        -0.05117098, -0.02930294],\n",
       "       [-0.09751045,  0.04911301, -0.03977425, ...,  0.02477498,\n",
       "        -0.03546077, -0.00018598],\n",
       "       [-0.10468337,  0.05926035, -0.02488499, ...,  0.0250205 ,\n",
       "        -0.037193  , -0.0256891 ]], shape=(5, 384), dtype=float32)"
      ]
     },
     "execution_count": 7,
     "metadata": {},
     "output_type": "execute_result"
    }
   ],
   "execution_count": 7
  },
  {
   "metadata": {
    "ExecuteTime": {
     "end_time": "2025-03-22T04:11:50.803082Z",
     "start_time": "2025-03-22T04:11:50.712871Z"
    }
   },
   "cell_type": "code",
   "source": [
    "clustering = DBSCAN(eps=0.2,min_samples=1,metric='cosine').fit(embeddings)\n",
    "df['cluster']= clustering.labels_"
   ],
   "id": "ce0f402d65ee3045",
   "outputs": [],
   "execution_count": 8
  },
  {
   "metadata": {
    "ExecuteTime": {
     "end_time": "2025-03-22T04:11:50.869788Z",
     "start_time": "2025-03-22T04:11:50.858927Z"
    }
   },
   "cell_type": "code",
   "source": "df.head()",
   "id": "ee7f62c04ee7a64e",
   "outputs": [
    {
     "data": {
      "text/plain": [
       "             timestamp           source  \\\n",
       "0  2025-06-27 07:20:25        ModernCRM   \n",
       "1      1/14/2025 23:07        ModernCRM   \n",
       "2       1/17/2025 1:29  AnalyticsEngine   \n",
       "3  2025-07-12 00:24:16         ModernHR   \n",
       "4  2025-06-02 18:25:23    BillingSystem   \n",
       "\n",
       "                                                                                                                                                                                                                                                                        log_message  \\\n",
       "0             nova.osapi_compute.wsgi.server [req-b9718cd8-f65e-49cc-8349-6cf7122af137 113d3a99c3da401fbd62cc2caa5b96d2 54fadb412c4e40cdbaed9335e4c35a9e - - -] 10.11.10.1 \"GET /v2/54fadb412c4e40cdbaed9335e4c35a9e/servers/detail HTTP/1.1\" status: 200 len: 1893 time: 0.2675118   \n",
       "1                                                                                                                                                                                                                                    Email service experiencing issues with sending   \n",
       "2                                                                                                                                                                                                                                         Unauthorized access to data was attempted   \n",
       "3  nova.osapi_compute.wsgi.server [req-4895c258-b2f8-488f-a2a3-4fae63982e48 113d3a99c3da401fbd62cc2caa5b96d2 54fadb412c4e40cdbaed9335e4c35a9e - - -] 10.11.10.1 \"GET /v2/54fadb412c4e40cdbaed9335e4c35a9e/servers/detail HTTP/1.1\" HTTP status code -  200 len: 211 time: 0.0968180   \n",
       "4              nova.osapi_compute.wsgi.server [req-ee8bc8ba-9265-4280-9215-dbe000a41209 113d3a99c3da401fbd62cc2caa5b96d2 54fadb412c4e40cdbaed9335e4c35a9e - - -] 10.11.10.1 \"GET /v2/54fadb412c4e40cdbaed9335e4c35a9e/servers/detail HTTP/1.1\" RCODE  200 len: 1874 time: 0.2280791   \n",
       "\n",
       "     target_label complexity  cluster  \n",
       "0     HTTP Status       bert        0  \n",
       "1  Critical Error       bert        1  \n",
       "2  Security Alert       bert        2  \n",
       "3     HTTP Status       bert        0  \n",
       "4     HTTP Status       bert        0  "
      ],
      "text/html": [
       "<div>\n",
       "<style scoped>\n",
       "    .dataframe tbody tr th:only-of-type {\n",
       "        vertical-align: middle;\n",
       "    }\n",
       "\n",
       "    .dataframe tbody tr th {\n",
       "        vertical-align: top;\n",
       "    }\n",
       "\n",
       "    .dataframe thead th {\n",
       "        text-align: right;\n",
       "    }\n",
       "</style>\n",
       "<table border=\"1\" class=\"dataframe\">\n",
       "  <thead>\n",
       "    <tr style=\"text-align: right;\">\n",
       "      <th></th>\n",
       "      <th>timestamp</th>\n",
       "      <th>source</th>\n",
       "      <th>log_message</th>\n",
       "      <th>target_label</th>\n",
       "      <th>complexity</th>\n",
       "      <th>cluster</th>\n",
       "    </tr>\n",
       "  </thead>\n",
       "  <tbody>\n",
       "    <tr>\n",
       "      <th>0</th>\n",
       "      <td>2025-06-27 07:20:25</td>\n",
       "      <td>ModernCRM</td>\n",
       "      <td>nova.osapi_compute.wsgi.server [req-b9718cd8-f65e-49cc-8349-6cf7122af137 113d3a99c3da401fbd62cc2caa5b96d2 54fadb412c4e40cdbaed9335e4c35a9e - - -] 10.11.10.1 \"GET /v2/54fadb412c4e40cdbaed9335e4c35a9e/servers/detail HTTP/1.1\" status: 200 len: 1893 time: 0.2675118</td>\n",
       "      <td>HTTP Status</td>\n",
       "      <td>bert</td>\n",
       "      <td>0</td>\n",
       "    </tr>\n",
       "    <tr>\n",
       "      <th>1</th>\n",
       "      <td>1/14/2025 23:07</td>\n",
       "      <td>ModernCRM</td>\n",
       "      <td>Email service experiencing issues with sending</td>\n",
       "      <td>Critical Error</td>\n",
       "      <td>bert</td>\n",
       "      <td>1</td>\n",
       "    </tr>\n",
       "    <tr>\n",
       "      <th>2</th>\n",
       "      <td>1/17/2025 1:29</td>\n",
       "      <td>AnalyticsEngine</td>\n",
       "      <td>Unauthorized access to data was attempted</td>\n",
       "      <td>Security Alert</td>\n",
       "      <td>bert</td>\n",
       "      <td>2</td>\n",
       "    </tr>\n",
       "    <tr>\n",
       "      <th>3</th>\n",
       "      <td>2025-07-12 00:24:16</td>\n",
       "      <td>ModernHR</td>\n",
       "      <td>nova.osapi_compute.wsgi.server [req-4895c258-b2f8-488f-a2a3-4fae63982e48 113d3a99c3da401fbd62cc2caa5b96d2 54fadb412c4e40cdbaed9335e4c35a9e - - -] 10.11.10.1 \"GET /v2/54fadb412c4e40cdbaed9335e4c35a9e/servers/detail HTTP/1.1\" HTTP status code -  200 len: 211 time: 0.0968180</td>\n",
       "      <td>HTTP Status</td>\n",
       "      <td>bert</td>\n",
       "      <td>0</td>\n",
       "    </tr>\n",
       "    <tr>\n",
       "      <th>4</th>\n",
       "      <td>2025-06-02 18:25:23</td>\n",
       "      <td>BillingSystem</td>\n",
       "      <td>nova.osapi_compute.wsgi.server [req-ee8bc8ba-9265-4280-9215-dbe000a41209 113d3a99c3da401fbd62cc2caa5b96d2 54fadb412c4e40cdbaed9335e4c35a9e - - -] 10.11.10.1 \"GET /v2/54fadb412c4e40cdbaed9335e4c35a9e/servers/detail HTTP/1.1\" RCODE  200 len: 1874 time: 0.2280791</td>\n",
       "      <td>HTTP Status</td>\n",
       "      <td>bert</td>\n",
       "      <td>0</td>\n",
       "    </tr>\n",
       "  </tbody>\n",
       "</table>\n",
       "</div>"
      ]
     },
     "execution_count": 9,
     "metadata": {},
     "output_type": "execute_result"
    }
   ],
   "execution_count": 9
  },
  {
   "metadata": {
    "ExecuteTime": {
     "end_time": "2025-03-22T04:11:52.323447Z",
     "start_time": "2025-03-22T04:11:52.305309Z"
    }
   },
   "cell_type": "code",
   "source": [
    "clusters = df.groupby('cluster')['log_message'].apply(list)\n",
    "sorted_clusters = clusters.sort_values(key=lambda x:x.map(len),ascending=False)"
   ],
   "id": "8793992bd9d4f172",
   "outputs": [],
   "execution_count": 10
  },
  {
   "metadata": {},
   "cell_type": "markdown",
   "source": "",
   "id": "144a4b3b267794e8"
  },
  {
   "metadata": {
    "ExecuteTime": {
     "end_time": "2025-03-22T05:02:03.269494Z",
     "start_time": "2025-03-22T05:02:03.260990Z"
    }
   },
   "cell_type": "code",
   "source": "df.shape",
   "id": "2cdb7aea99c02e01",
   "outputs": [
    {
     "data": {
      "text/plain": [
       "(2410, 7)"
      ]
     },
     "execution_count": 46,
     "metadata": {},
     "output_type": "execute_result"
    }
   ],
   "execution_count": 46
  },
  {
   "metadata": {
    "ExecuteTime": {
     "end_time": "2025-03-22T04:28:19.830676Z",
     "start_time": "2025-03-22T04:28:19.813824Z"
    }
   },
   "cell_type": "code",
   "source": [
    "print(\"Clustered Patterns :\")\n",
    "for cluster_id , messages in sorted_clusters.items():\n",
    "    if len(messages)>10:\n",
    "        print(f\"Cluster {cluster_id} :\")\n",
    "        for msg in messages[:5]:\n",
    "            print(f\"  {msg}\")"
   ],
   "id": "d287a68a4750b21c",
   "outputs": [
    {
     "name": "stdout",
     "output_type": "stream",
     "text": [
      "Clustered Patterns :\n",
      "Cluster 0 :\n",
      "  nova.osapi_compute.wsgi.server [req-b9718cd8-f65e-49cc-8349-6cf7122af137 113d3a99c3da401fbd62cc2caa5b96d2 54fadb412c4e40cdbaed9335e4c35a9e - - -] 10.11.10.1 \"GET /v2/54fadb412c4e40cdbaed9335e4c35a9e/servers/detail HTTP/1.1\" status: 200 len: 1893 time: 0.2675118\n",
      "  nova.osapi_compute.wsgi.server [req-4895c258-b2f8-488f-a2a3-4fae63982e48 113d3a99c3da401fbd62cc2caa5b96d2 54fadb412c4e40cdbaed9335e4c35a9e - - -] 10.11.10.1 \"GET /v2/54fadb412c4e40cdbaed9335e4c35a9e/servers/detail HTTP/1.1\" HTTP status code -  200 len: 211 time: 0.0968180\n",
      "  nova.osapi_compute.wsgi.server [req-ee8bc8ba-9265-4280-9215-dbe000a41209 113d3a99c3da401fbd62cc2caa5b96d2 54fadb412c4e40cdbaed9335e4c35a9e - - -] 10.11.10.1 \"GET /v2/54fadb412c4e40cdbaed9335e4c35a9e/servers/detail HTTP/1.1\" RCODE  200 len: 1874 time: 0.2280791\n",
      "  nova.osapi_compute.wsgi.server [req-f0bffbc3-5ab0-4916-91c1-0a61dd7d4ec2 113d3a99c3da401fbd62cc2caa5b96d2 54fadb412c4e40cdbaed9335e4c35a9e - - -] 10.11.10.1 \"GET /v2/54fadb412c4e40cdbaed9335e4c35a9e/servers/detail HTTP/1.1\" Return code: 200 len: 1874 time: 0.2131531\n",
      "  nova.osapi_compute.wsgi.server [req-2bf7cfee-a236-42f3-8fb1-96fefab0b302 113d3a99c3da401fbd62cc2caa5b96d2 54fadb412c4e40cdbaed9335e4c35a9e - - -] 10.11.10.1 \"GET /v2/54fadb412c4e40cdbaed9335e4c35a9e/servers/detail HTTP/1.1\" RCODE  200 len: 1874 time: 0.1794369\n",
      "Cluster 5 :\n",
      "  nova.compute.claims [req-a07ac654-8e81-416d-bfbb-189116b07969 113d3a99c3da401fbd62cc2caa5b96d2 54fadb412c4e40cdbaed9335e4c35a9e - - -] [instance: bf8c824d-f099-4433-a41e-e3da7578262e] Total memory: 64172 MB, used: 512.00 MB\n",
      "  nova.compute.claims [req-d6986b54-3735-4a42-9074-0ba7d9717de9 113d3a99c3da401fbd62cc2caa5b96d2 54fadb412c4e40cdbaed9335e4c35a9e - - -] [instance: af5f7392-f7d4-4298-b647-c98924c64aa1] memory limit: 96258.00 MB, free: 95746.00 MB\n",
      "  nova.compute.claims [req-72b4858f-049e-49e1-b31e-b562c5018eaf 113d3a99c3da401fbd62cc2caa5b96d2 54fadb412c4e40cdbaed9335e4c35a9e - - -] [instance: 63a0d960-70b6-44c6-b606-491478a5cadf] disk limit not specified, defaulting to unlimited\n",
      "  nova.compute.claims [req-5c8f52bd-8e3c-41f0-95a5-7861d247cafa 113d3a99c3da401fbd62cc2caa5b96d2 54fadb412c4e40cdbaed9335e4c35a9e - - -] [instance: d96a117b-0193-4549-bdcc-63b917273d1d] vcpu limit not specified, defaulting to unlimited\n",
      "  nova.compute.claims [req-d38f479d-9bb9-4276-9688-52607e8fd350 113d3a99c3da401fbd62cc2caa5b96d2 54fadb412c4e40cdbaed9335e4c35a9e - - -] [instance: 95960536-049b-41f6-9049-05fc479b6a7c] disk limit not specified, defaulting to unlimited\n",
      "Cluster 11 :\n",
      "  User User685 logged out.\n",
      "  User User395 logged in.\n",
      "  User User225 logged in.\n",
      "  User User494 logged out.\n",
      "  User User900 logged in.\n",
      "Cluster 13 :\n",
      "  Backup started at 2025-05-14 07:06:55.\n",
      "  Backup started at 2025-02-15 20:00:19.\n",
      "  Backup ended at 2025-08-08 13:06:23.\n",
      "  Backup started at 2025-11-14 08:27:43.\n",
      "  Backup started at 2025-12-09 10:19:11.\n",
      "Cluster 7 :\n",
      "  Multiple bad login attempts detected on user 8538 account\n",
      "  Multiple login failures occurred on user 9052 account\n",
      "  User 7153 made multiple incorrect login attempts\n",
      "  User 8300 made multiple incorrect login attempts\n",
      "  Multiple login failures were detected for user 6373\n",
      "Cluster 8 :\n",
      "  Backup completed successfully.\n",
      "  Backup completed successfully.\n",
      "  Backup completed successfully.\n",
      "  Backup completed successfully.\n",
      "  Backup completed successfully.\n",
      "Cluster 21 :\n",
      "  System updated to version 3.9.1.\n",
      "  System updated to version 5.5.4.\n",
      "  System updated to version 4.7.4.\n",
      "  System updated to version 3.7.7.\n",
      "  System updated to version 2.6.2.\n",
      "Cluster 3 :\n",
      "  Shard 6 replication task ended in failure\n",
      "  Data replication task for shard 14 did not complete\n",
      "  Data replication task failed for shard 17\n",
      "  Replication of data to shard 14 failed\n",
      "  Data replication task for shard 6 did not complete\n",
      "Cluster 4 :\n",
      "  File data_6169.csv uploaded successfully by user User953.\n",
      "  File data_3847.csv uploaded successfully by user User175.\n",
      "  File data_7366.csv uploaded successfully by user User282.\n",
      "  File data_1206.csv uploaded successfully by user User359.\n",
      "  File data_1503.csv uploaded successfully by user User151.\n",
      "Cluster 17 :\n",
      "  Denied access attempt on restricted account Account2682\n",
      "  Unauthorized login attempt on protected account Account5030\n",
      "  Account Account9437 blocked due to failed login\n",
      "  Account Account7999 access denied due to login failure\n",
      "  Invalid login attempt made on secured account Account7864\n",
      "Cluster 6 :\n",
      "  Critical system unit error: unit ID Component55\n",
      "  System component malfunction: component ID Component79\n",
      "  Critical system element is down: element ID Component96\n",
      "  Essential system part malfunction: part ID Component6\n",
      "  Failure occurred in critical system component: component ID Component92\n",
      "Cluster 32 :\n",
      "  Disk cleanup completed successfully.\n",
      "  Disk cleanup completed successfully.\n",
      "  Disk cleanup completed successfully.\n",
      "  Disk cleanup completed successfully.\n",
      "  Disk cleanup completed successfully.\n",
      "Cluster 16 :\n",
      "  System reboot initiated by user User243.\n",
      "  System reboot initiated by user User471.\n",
      "  System reboot initiated by user User216.\n",
      "  System reboot initiated by user User639.\n",
      "  System reboot initiated by user User819.\n",
      "Cluster 20 :\n",
      "  User 7662 tried to bypass API security measures\n",
      "  User 2367 failed to provide valid API access credentials\n",
      "  User 3569 made an unauthorized API request\n",
      "  Unauthorized user 2968 tried to access restricted API\n",
      "  User 2186 attempted to access API without proper authorization\n",
      "Cluster 9 :\n",
      "  Account with ID 5351 created by User634.\n",
      "  Account with ID 7813 created by User373.\n",
      "  Account with ID 9827 created by User965.\n",
      "  Account with ID 2520 created by User546.\n",
      "  Account with ID 2300 created by User964.\n",
      "Cluster 1 :\n",
      "  Email service experiencing issues with sending\n",
      "  Email server encountered a sending fault\n",
      "  Mail service encountered a delivery glitch\n",
      "  Service disruption caused by email sending error\n",
      "  Email system had a problem sending emails\n",
      "Cluster 10 :\n",
      "  nova.compute.resource_tracker [req-addc1839-2ed5-4778-b57e-5854eb7b8b09 - - - - -] Final resource view: name=cp-1.slowvm1.tcloud-pg0.utah.cloudlab.us phys_ram=64172MB used_ram=512MB phys_disk=15GB used_disk=0GB total_vcpus=16 used_vcpus=0 pci_stats=[]\n",
      "  nova.compute.resource_tracker [req-addc1839-2ed5-4778-b57e-5854eb7b8b09 - - - - -] Final resource view: name=cp-1.slowvm1.tcloud-pg0.utah.cloudlab.us phys_ram=64172MB used_ram=2560MB phys_disk=15GB used_disk=20GB total_vcpus=16 used_vcpus=1 pci_stats=[]\n",
      "  nova.compute.resource_tracker [req-addc1839-2ed5-4778-b57e-5854eb7b8b09 - - - - -] Total usable vcpus: 16, total allocated vcpus: 0\n",
      "  nova.compute.resource_tracker [req-addc1839-2ed5-4778-b57e-5854eb7b8b09 - - - - -] Final resource view: name=cp-1.slowvm1.tcloud-pg0.utah.cloudlab.us phys_ram=64172MB used_ram=2560MB phys_disk=15GB used_disk=20GB total_vcpus=16 used_vcpus=1 pci_stats=[]\n",
      "  nova.compute.resource_tracker [req-addc1839-2ed5-4778-b57e-5854eb7b8b09 - - - - -] Final resource view: name=cp-1.slowvm1.tcloud-pg0.utah.cloudlab.us phys_ram=64172MB used_ram=2560MB phys_disk=15GB used_disk=20GB total_vcpus=16 used_vcpus=1 pci_stats=[]\n",
      "Cluster 34 :\n",
      "  Abnormal behavior found on server 10, possible security threat\n",
      "  Security alert: suspicious activity on server 1\n",
      "  Anomalous activity identified on server 23, security review recommended\n",
      "  Server 27 experienced potential security incident, review required\n",
      "  Server 36 experienced potential security incident, review required\n",
      "Cluster 53 :\n",
      "  Module X experienced an invalid data format issue\n",
      "  Input format mismatch occurred in module X\n",
      "  Module X reported an error in input format validation\n",
      "  Module X failed to process input due to formatting error\n",
      "  Input data format in module X was invalid or corrupted\n",
      "Cluster 14 :\n",
      "  Detection of multiple disk faults in RAID setup\n",
      "  RAID array suffered multiple hard drive failures\n",
      "  RAID array experienced multiple disk crashes\n",
      "  Multiple hard drive issues in RAID configuration found\n",
      "  Identification of multiple faulty disks in RAID array\n",
      "Cluster 52 :\n",
      "  Service health check was not successful because of SSL certificate validation failures.\n",
      "  Invalid SSL certificate resulted in a failed service health check.\n",
      "  Service health check failure was due to an invalid or improperly configured SSL certificate.\n",
      "  An issue with the SSL certificate caused the service health check to fail.\n",
      "  Service health check failure was caused by an expired SSL certificate.\n",
      "Cluster 18 :\n",
      "  Boot process terminated unexpectedly due to kernel issue\n",
      "  System encountered kernel panic during initialization phase\n",
      "  Boot process was stopped by kernel malfunction\n",
      "  System encountered kernel failure during bootup sequence\n",
      "  Boot sequence failed due to kernel panic\n",
      "Cluster 42 :\n",
      "  User 5127 has escalated admin privileges without authorization\n",
      "  User 9745 has escalated to admin level\n",
      "  User 8483 escalated privileges to admin level\n",
      "  User 1987 has escalated to admin level\n",
      "  User 8395 escalated privileges to admin level\n",
      "Cluster 25 :\n",
      "  System configuration is no longer valid\n",
      "  Configuration is corrupted throughout the system\n",
      "  Cross-system configuration failure occurred\n",
      "  System configuration is experiencing errors\n",
      "  Configuration malfunction is system-wide\n",
      "Cluster 59 :\n",
      "  Potential security threat: Admin privilege escalation for user 5130\n",
      "  Admin privilege escalation alert for user 2893\n",
      "  Admin privilege escalation alert for user 8532\n",
      "  Potential security threat: Admin privilege escalation for user 1554\n",
      "  Warning: Potential admin privilege escalation for user 5720\n",
      "Cluster 26 :\n",
      "  Privilege elevation detected for user 5038\n",
      "  Elevation of admin privileges detected for user 6137\n",
      "  Elevation of admin privileges detected for user 4907\n",
      "  User 6069 has been granted elevated admin privileges\n",
      "  Admin privilege elevation warning for user 7574\n"
     ]
    }
   ],
   "execution_count": 12
  },
  {
   "metadata": {
    "ExecuteTime": {
     "end_time": "2025-03-22T04:58:25.206005Z",
     "start_time": "2025-03-22T04:58:25.195170Z"
    }
   },
   "cell_type": "code",
   "source": [
    "\n",
    "import re\n",
    "def classify_with_regex(log_message):\n",
    "    regex_patterns = {\n",
    "        r\"User User\\d+ logged (in|out).\": \"User Action\",\n",
    "        r\"Backup (started|ended) at .*\": \"System Notification\",\n",
    "        r\"Backup completed successfully.\": \"System Notification\",\n",
    "        r\"System updated to version .*\": \"System Notification\",\n",
    "        r\"File .* uploaded successfully by user .*\": \"System Notification\",\n",
    "        r\"Disk cleanup completed successfully.\": \"System Notification\",\n",
    "        r\"System reboot initiated by user .*\": \"System Notification\",\n",
    "        r\"Account with ID .* created by .*\": \"User Action\"\n",
    "    }\n",
    "    for pattern, label in regex_patterns.items():\n",
    "        if re.search(pattern, log_message,re.IGNORECASE):\n",
    "            return label\n",
    "    return None"
   ],
   "id": "4b53ccb6c237caa2",
   "outputs": [],
   "execution_count": 39
  },
  {
   "metadata": {
    "ExecuteTime": {
     "end_time": "2025-03-22T04:58:27.403447Z",
     "start_time": "2025-03-22T04:58:27.390944Z"
    }
   },
   "cell_type": "code",
   "source": "classify_with_regex(\"User User123 logged in.\")",
   "id": "d2744ce53abcb75",
   "outputs": [
    {
     "data": {
      "text/plain": [
       "'User Action'"
      ]
     },
     "execution_count": 40,
     "metadata": {},
     "output_type": "execute_result"
    }
   ],
   "execution_count": 40
  },
  {
   "metadata": {
    "ExecuteTime": {
     "end_time": "2025-03-22T04:58:29.632067Z",
     "start_time": "2025-03-22T04:58:29.621576Z"
    }
   },
   "cell_type": "code",
   "source": "classify_with_regex(\"System reboot initiated by user User179.\")",
   "id": "cd703484500a7161",
   "outputs": [
    {
     "data": {
      "text/plain": [
       "'System Notification'"
      ]
     },
     "execution_count": 41,
     "metadata": {},
     "output_type": "execute_result"
    }
   ],
   "execution_count": 41
  },
  {
   "metadata": {
    "ExecuteTime": {
     "end_time": "2025-03-22T04:58:32.441501Z",
     "start_time": "2025-03-22T04:58:32.352977Z"
    }
   },
   "cell_type": "code",
   "source": [
    "df['regex_label'] = df['log_message'].apply(lambda x: classify_with_regex(x))\n",
    "df[df['regex_label'].notnull()]"
   ],
   "id": "9510803903d5aece",
   "outputs": [
    {
     "data": {
      "text/plain": [
       "            timestamp         source  \\\n",
       "7     10/11/2025 8:44       ModernHR   \n",
       "14      1/4/2025 1:43  ThirdPartyAPI   \n",
       "15      5/1/2025 9:41      ModernCRM   \n",
       "18    2/22/2025 17:49      ModernCRM   \n",
       "27    9/24/2025 19:57  ThirdPartyAPI   \n",
       "...               ...            ...   \n",
       "2376   6/27/2025 8:47      ModernCRM   \n",
       "2381    9/5/2025 6:39  ThirdPartyAPI   \n",
       "2394   4/3/2025 13:13       ModernHR   \n",
       "2395   5/2/2025 14:29  ThirdPartyAPI   \n",
       "2403   10/1/2025 1:31      ModernCRM   \n",
       "\n",
       "                                                    log_message  \\\n",
       "7     File data_6169.csv uploaded successfully by user User953.   \n",
       "14    File data_3847.csv uploaded successfully by user User175.   \n",
       "15                               Backup completed successfully.   \n",
       "18                     Account with ID 5351 created by User634.   \n",
       "27                                     User User685 logged out.   \n",
       "...                                                         ...   \n",
       "2376                           System updated to version 2.0.5.   \n",
       "2381                       Disk cleanup completed successfully.   \n",
       "2394                       Disk cleanup completed successfully.   \n",
       "2395                       Backup ended at 2025-05-06 11:23:16.   \n",
       "2403                             Backup completed successfully.   \n",
       "\n",
       "             target_label complexity  cluster          regex_label  \n",
       "7     System Notification      regex        4  System Notification  \n",
       "14    System Notification      regex        4  System Notification  \n",
       "15    System Notification      regex        8  System Notification  \n",
       "18            User Action      regex        9          User Action  \n",
       "27            User Action      regex       11          User Action  \n",
       "...                   ...        ...      ...                  ...  \n",
       "2376  System Notification      regex       21  System Notification  \n",
       "2381  System Notification      regex       32  System Notification  \n",
       "2394  System Notification      regex       32  System Notification  \n",
       "2395  System Notification      regex       13  System Notification  \n",
       "2403  System Notification      regex        8  System Notification  \n",
       "\n",
       "[500 rows x 7 columns]"
      ],
      "text/html": [
       "<div>\n",
       "<style scoped>\n",
       "    .dataframe tbody tr th:only-of-type {\n",
       "        vertical-align: middle;\n",
       "    }\n",
       "\n",
       "    .dataframe tbody tr th {\n",
       "        vertical-align: top;\n",
       "    }\n",
       "\n",
       "    .dataframe thead th {\n",
       "        text-align: right;\n",
       "    }\n",
       "</style>\n",
       "<table border=\"1\" class=\"dataframe\">\n",
       "  <thead>\n",
       "    <tr style=\"text-align: right;\">\n",
       "      <th></th>\n",
       "      <th>timestamp</th>\n",
       "      <th>source</th>\n",
       "      <th>log_message</th>\n",
       "      <th>target_label</th>\n",
       "      <th>complexity</th>\n",
       "      <th>cluster</th>\n",
       "      <th>regex_label</th>\n",
       "    </tr>\n",
       "  </thead>\n",
       "  <tbody>\n",
       "    <tr>\n",
       "      <th>7</th>\n",
       "      <td>10/11/2025 8:44</td>\n",
       "      <td>ModernHR</td>\n",
       "      <td>File data_6169.csv uploaded successfully by user User953.</td>\n",
       "      <td>System Notification</td>\n",
       "      <td>regex</td>\n",
       "      <td>4</td>\n",
       "      <td>System Notification</td>\n",
       "    </tr>\n",
       "    <tr>\n",
       "      <th>14</th>\n",
       "      <td>1/4/2025 1:43</td>\n",
       "      <td>ThirdPartyAPI</td>\n",
       "      <td>File data_3847.csv uploaded successfully by user User175.</td>\n",
       "      <td>System Notification</td>\n",
       "      <td>regex</td>\n",
       "      <td>4</td>\n",
       "      <td>System Notification</td>\n",
       "    </tr>\n",
       "    <tr>\n",
       "      <th>15</th>\n",
       "      <td>5/1/2025 9:41</td>\n",
       "      <td>ModernCRM</td>\n",
       "      <td>Backup completed successfully.</td>\n",
       "      <td>System Notification</td>\n",
       "      <td>regex</td>\n",
       "      <td>8</td>\n",
       "      <td>System Notification</td>\n",
       "    </tr>\n",
       "    <tr>\n",
       "      <th>18</th>\n",
       "      <td>2/22/2025 17:49</td>\n",
       "      <td>ModernCRM</td>\n",
       "      <td>Account with ID 5351 created by User634.</td>\n",
       "      <td>User Action</td>\n",
       "      <td>regex</td>\n",
       "      <td>9</td>\n",
       "      <td>User Action</td>\n",
       "    </tr>\n",
       "    <tr>\n",
       "      <th>27</th>\n",
       "      <td>9/24/2025 19:57</td>\n",
       "      <td>ThirdPartyAPI</td>\n",
       "      <td>User User685 logged out.</td>\n",
       "      <td>User Action</td>\n",
       "      <td>regex</td>\n",
       "      <td>11</td>\n",
       "      <td>User Action</td>\n",
       "    </tr>\n",
       "    <tr>\n",
       "      <th>...</th>\n",
       "      <td>...</td>\n",
       "      <td>...</td>\n",
       "      <td>...</td>\n",
       "      <td>...</td>\n",
       "      <td>...</td>\n",
       "      <td>...</td>\n",
       "      <td>...</td>\n",
       "    </tr>\n",
       "    <tr>\n",
       "      <th>2376</th>\n",
       "      <td>6/27/2025 8:47</td>\n",
       "      <td>ModernCRM</td>\n",
       "      <td>System updated to version 2.0.5.</td>\n",
       "      <td>System Notification</td>\n",
       "      <td>regex</td>\n",
       "      <td>21</td>\n",
       "      <td>System Notification</td>\n",
       "    </tr>\n",
       "    <tr>\n",
       "      <th>2381</th>\n",
       "      <td>9/5/2025 6:39</td>\n",
       "      <td>ThirdPartyAPI</td>\n",
       "      <td>Disk cleanup completed successfully.</td>\n",
       "      <td>System Notification</td>\n",
       "      <td>regex</td>\n",
       "      <td>32</td>\n",
       "      <td>System Notification</td>\n",
       "    </tr>\n",
       "    <tr>\n",
       "      <th>2394</th>\n",
       "      <td>4/3/2025 13:13</td>\n",
       "      <td>ModernHR</td>\n",
       "      <td>Disk cleanup completed successfully.</td>\n",
       "      <td>System Notification</td>\n",
       "      <td>regex</td>\n",
       "      <td>32</td>\n",
       "      <td>System Notification</td>\n",
       "    </tr>\n",
       "    <tr>\n",
       "      <th>2395</th>\n",
       "      <td>5/2/2025 14:29</td>\n",
       "      <td>ThirdPartyAPI</td>\n",
       "      <td>Backup ended at 2025-05-06 11:23:16.</td>\n",
       "      <td>System Notification</td>\n",
       "      <td>regex</td>\n",
       "      <td>13</td>\n",
       "      <td>System Notification</td>\n",
       "    </tr>\n",
       "    <tr>\n",
       "      <th>2403</th>\n",
       "      <td>10/1/2025 1:31</td>\n",
       "      <td>ModernCRM</td>\n",
       "      <td>Backup completed successfully.</td>\n",
       "      <td>System Notification</td>\n",
       "      <td>regex</td>\n",
       "      <td>8</td>\n",
       "      <td>System Notification</td>\n",
       "    </tr>\n",
       "  </tbody>\n",
       "</table>\n",
       "<p>500 rows × 7 columns</p>\n",
       "</div>"
      ]
     },
     "execution_count": 42,
     "metadata": {},
     "output_type": "execute_result"
    }
   ],
   "execution_count": 42
  },
  {
   "metadata": {
    "ExecuteTime": {
     "end_time": "2025-03-22T05:02:43.900355Z",
     "start_time": "2025-03-22T05:02:43.892283Z"
    }
   },
   "cell_type": "code",
   "source": "df.shape",
   "id": "9993c9ef7a9763e2",
   "outputs": [
    {
     "data": {
      "text/plain": [
       "(2410, 7)"
      ]
     },
     "execution_count": 47,
     "metadata": {},
     "output_type": "execute_result"
    }
   ],
   "execution_count": 47
  },
  {
   "metadata": {
    "ExecuteTime": {
     "end_time": "2025-03-22T05:05:40.929265Z",
     "start_time": "2025-03-22T05:05:40.917852Z"
    }
   },
   "cell_type": "code",
   "source": [
    "none_count = df['regex_label'].isnull().sum()\n",
    "print(f\"Number of None values: {none_count}\")\n"
   ],
   "id": "cfac6b8b66f84840",
   "outputs": [
    {
     "name": "stdout",
     "output_type": "stream",
     "text": [
      "Number of None values: 1910\n"
     ]
    }
   ],
   "execution_count": 51
  },
  {
   "metadata": {
    "ExecuteTime": {
     "end_time": "2025-03-22T05:08:12.172564Z",
     "start_time": "2025-03-22T05:08:12.161511Z"
    }
   },
   "cell_type": "code",
   "source": [
    "df_non_regex = df[df['regex_label'].isnull()].copy()\n",
    "df_non_regex.shape"
   ],
   "id": "fc2ad00d9abc7c9b",
   "outputs": [
    {
     "data": {
      "text/plain": [
       "(1910, 7)"
      ]
     },
     "execution_count": 53,
     "metadata": {},
     "output_type": "execute_result"
    }
   ],
   "execution_count": 53
  },
  {
   "metadata": {
    "ExecuteTime": {
     "end_time": "2025-03-22T05:08:36.932713Z",
     "start_time": "2025-03-22T05:08:36.919685Z"
    }
   },
   "cell_type": "code",
   "source": [
    "df_legacy = df_non_regex[df_non_regex.source==\"LegacyCRM\"]\n",
    "df_legacy.shape"
   ],
   "id": "55637a03e9228017",
   "outputs": [
    {
     "data": {
      "text/plain": [
       "(7, 7)"
      ]
     },
     "execution_count": 55,
     "metadata": {},
     "output_type": "execute_result"
    }
   ],
   "execution_count": 55
  },
  {
   "metadata": {
    "ExecuteTime": {
     "end_time": "2025-03-22T05:15:28.575514Z",
     "start_time": "2025-03-22T05:15:28.558125Z"
    }
   },
   "cell_type": "code",
   "source": "df[df['source']=='LegacyCRM']\n",
   "id": "5b66a9ee4e0e134a",
   "outputs": [
    {
     "data": {
      "text/plain": [
       "                timestamp     source  \\\n",
       "60    2025-10-06 16:55:23  LegacyCRM   \n",
       "255   2025-05-03 16:55:35  LegacyCRM   \n",
       "377   2025-06-24 12:16:29  LegacyCRM   \n",
       "1325  2025-04-17 07:33:44  LegacyCRM   \n",
       "1734  2025-04-30 07:47:30  LegacyCRM   \n",
       "1826  2025-01-23 10:33:36  LegacyCRM   \n",
       "2217  2025-05-12 09:46:54  LegacyCRM   \n",
       "\n",
       "                                                                                                               log_message  \\\n",
       "60                                         Lead conversion failed for prospect ID 7842 due to missing contact information.   \n",
       "255   API endpoint 'getCustomerDetails' is deprecated and will be removed in version 3.2. Use 'fetchCustomerInfo' instead.   \n",
       "377                                          Customer follow-up process for lead ID 5621 failed due to missing next action   \n",
       "1325                                     Escalation rule execution failed for ticket ID 9807 - undefined escalation level.   \n",
       "1734                             The 'ExportToCSV' feature is outdated. Please migrate to 'ExportToXLSX' by the end of Q3.   \n",
       "1826                                      Support for legacy authentication methods will be discontinued after 2025-06-01.   \n",
       "2217                                     Task assignment for TeamID 3425 could not complete due to invalid priority level.   \n",
       "\n",
       "             target_label complexity  cluster regex_label  \n",
       "60         Workflow Error        llm       24        None  \n",
       "255   Deprecation Warning        llm       48        None  \n",
       "377        Workflow Error        llm       62        None  \n",
       "1325       Workflow Error        llm      105        None  \n",
       "1734  Deprecation Warning        llm      118        None  \n",
       "1826  Deprecation Warning        llm      122        None  \n",
       "2217       Workflow Error        llm      133        None  "
      ],
      "text/html": [
       "<div>\n",
       "<style scoped>\n",
       "    .dataframe tbody tr th:only-of-type {\n",
       "        vertical-align: middle;\n",
       "    }\n",
       "\n",
       "    .dataframe tbody tr th {\n",
       "        vertical-align: top;\n",
       "    }\n",
       "\n",
       "    .dataframe thead th {\n",
       "        text-align: right;\n",
       "    }\n",
       "</style>\n",
       "<table border=\"1\" class=\"dataframe\">\n",
       "  <thead>\n",
       "    <tr style=\"text-align: right;\">\n",
       "      <th></th>\n",
       "      <th>timestamp</th>\n",
       "      <th>source</th>\n",
       "      <th>log_message</th>\n",
       "      <th>target_label</th>\n",
       "      <th>complexity</th>\n",
       "      <th>cluster</th>\n",
       "      <th>regex_label</th>\n",
       "    </tr>\n",
       "  </thead>\n",
       "  <tbody>\n",
       "    <tr>\n",
       "      <th>60</th>\n",
       "      <td>2025-10-06 16:55:23</td>\n",
       "      <td>LegacyCRM</td>\n",
       "      <td>Lead conversion failed for prospect ID 7842 due to missing contact information.</td>\n",
       "      <td>Workflow Error</td>\n",
       "      <td>llm</td>\n",
       "      <td>24</td>\n",
       "      <td>None</td>\n",
       "    </tr>\n",
       "    <tr>\n",
       "      <th>255</th>\n",
       "      <td>2025-05-03 16:55:35</td>\n",
       "      <td>LegacyCRM</td>\n",
       "      <td>API endpoint 'getCustomerDetails' is deprecated and will be removed in version 3.2. Use 'fetchCustomerInfo' instead.</td>\n",
       "      <td>Deprecation Warning</td>\n",
       "      <td>llm</td>\n",
       "      <td>48</td>\n",
       "      <td>None</td>\n",
       "    </tr>\n",
       "    <tr>\n",
       "      <th>377</th>\n",
       "      <td>2025-06-24 12:16:29</td>\n",
       "      <td>LegacyCRM</td>\n",
       "      <td>Customer follow-up process for lead ID 5621 failed due to missing next action</td>\n",
       "      <td>Workflow Error</td>\n",
       "      <td>llm</td>\n",
       "      <td>62</td>\n",
       "      <td>None</td>\n",
       "    </tr>\n",
       "    <tr>\n",
       "      <th>1325</th>\n",
       "      <td>2025-04-17 07:33:44</td>\n",
       "      <td>LegacyCRM</td>\n",
       "      <td>Escalation rule execution failed for ticket ID 9807 - undefined escalation level.</td>\n",
       "      <td>Workflow Error</td>\n",
       "      <td>llm</td>\n",
       "      <td>105</td>\n",
       "      <td>None</td>\n",
       "    </tr>\n",
       "    <tr>\n",
       "      <th>1734</th>\n",
       "      <td>2025-04-30 07:47:30</td>\n",
       "      <td>LegacyCRM</td>\n",
       "      <td>The 'ExportToCSV' feature is outdated. Please migrate to 'ExportToXLSX' by the end of Q3.</td>\n",
       "      <td>Deprecation Warning</td>\n",
       "      <td>llm</td>\n",
       "      <td>118</td>\n",
       "      <td>None</td>\n",
       "    </tr>\n",
       "    <tr>\n",
       "      <th>1826</th>\n",
       "      <td>2025-01-23 10:33:36</td>\n",
       "      <td>LegacyCRM</td>\n",
       "      <td>Support for legacy authentication methods will be discontinued after 2025-06-01.</td>\n",
       "      <td>Deprecation Warning</td>\n",
       "      <td>llm</td>\n",
       "      <td>122</td>\n",
       "      <td>None</td>\n",
       "    </tr>\n",
       "    <tr>\n",
       "      <th>2217</th>\n",
       "      <td>2025-05-12 09:46:54</td>\n",
       "      <td>LegacyCRM</td>\n",
       "      <td>Task assignment for TeamID 3425 could not complete due to invalid priority level.</td>\n",
       "      <td>Workflow Error</td>\n",
       "      <td>llm</td>\n",
       "      <td>133</td>\n",
       "      <td>None</td>\n",
       "    </tr>\n",
       "  </tbody>\n",
       "</table>\n",
       "</div>"
      ]
     },
     "execution_count": 60,
     "metadata": {},
     "output_type": "execute_result"
    }
   ],
   "execution_count": 60
  },
  {
   "metadata": {
    "ExecuteTime": {
     "end_time": "2025-03-22T05:09:04.280027Z",
     "start_time": "2025-03-22T05:09:04.255294Z"
    }
   },
   "cell_type": "code",
   "source": [
    "df_non_legacy = df_non_regex[df_non_regex.source!=\"LegacyCRM\"]\n",
    "df_non_legacy"
   ],
   "id": "6d192749d2f71492",
   "outputs": [
    {
     "data": {
      "text/plain": [
       "                timestamp           source  \\\n",
       "0     2025-06-27 07:20:25        ModernCRM   \n",
       "1         1/14/2025 23:07        ModernCRM   \n",
       "2          1/17/2025 1:29  AnalyticsEngine   \n",
       "3     2025-07-12 00:24:16         ModernHR   \n",
       "4     2025-06-02 18:25:23    BillingSystem   \n",
       "...                   ...              ...   \n",
       "2405  2025-08-13 07:29:25         ModernHR   \n",
       "2406       1/11/2025 5:32         ModernHR   \n",
       "2407  2025-08-03 03:07:47    ThirdPartyAPI   \n",
       "2408     11/11/2025 11:52    BillingSystem   \n",
       "2409     12/25/2025 13:21  AnalyticsEngine   \n",
       "\n",
       "                                                                                                                                                                                                                                                                           log_message  \\\n",
       "0                nova.osapi_compute.wsgi.server [req-b9718cd8-f65e-49cc-8349-6cf7122af137 113d3a99c3da401fbd62cc2caa5b96d2 54fadb412c4e40cdbaed9335e4c35a9e - - -] 10.11.10.1 \"GET /v2/54fadb412c4e40cdbaed9335e4c35a9e/servers/detail HTTP/1.1\" status: 200 len: 1893 time: 0.2675118   \n",
       "1                                                                                                                                                                                                                                       Email service experiencing issues with sending   \n",
       "2                                                                                                                                                                                                                                            Unauthorized access to data was attempted   \n",
       "3     nova.osapi_compute.wsgi.server [req-4895c258-b2f8-488f-a2a3-4fae63982e48 113d3a99c3da401fbd62cc2caa5b96d2 54fadb412c4e40cdbaed9335e4c35a9e - - -] 10.11.10.1 \"GET /v2/54fadb412c4e40cdbaed9335e4c35a9e/servers/detail HTTP/1.1\" HTTP status code -  200 len: 211 time: 0.0968180   \n",
       "4                 nova.osapi_compute.wsgi.server [req-ee8bc8ba-9265-4280-9215-dbe000a41209 113d3a99c3da401fbd62cc2caa5b96d2 54fadb412c4e40cdbaed9335e4c35a9e - - -] 10.11.10.1 \"GET /v2/54fadb412c4e40cdbaed9335e4c35a9e/servers/detail HTTP/1.1\" RCODE  200 len: 1874 time: 0.2280791   \n",
       "...                                                                                                                                                                                                                                                                                ...   \n",
       "2405        nova.osapi_compute.wsgi.server [req-96c3ec98-21a0-4af2-84a8-d4989512413e 113d3a99c3da401fbd62cc2caa5b96d2 54fadb412c4e40cdbaed9335e4c35a9e - - -] 10.11.10.1 \"GET /v2/54fadb412c4e40cdbaed9335e4c35a9e/servers/detail HTTP/1.1\" Return code: 200 len: 1916 time: 0.2677610   \n",
       "2406                                                                                                                                                                                                                              User 3844 account experienced multiple failed logins   \n",
       "2407                                                                                                   nova.metadata.wsgi.server [req-b6d4a270-accb-4c3a-8179-9611e52e1768 - - - - -] 10.11.21.124,10.11.10.1 \"GET /openstack/2013-10-17 HTTP/1.1\" RCODE  200 len: 157 time: 0.2249990   \n",
       "2408                                                                                                                                                                                                                                     Email service affected by failed transmission   \n",
       "2409                                                                                                                                                                                                                          Repeated failed login attempts occurred for user ID 8555   \n",
       "\n",
       "        target_label complexity  cluster regex_label  \n",
       "0        HTTP Status       bert        0        None  \n",
       "1     Critical Error       bert        1        None  \n",
       "2     Security Alert       bert        2        None  \n",
       "3        HTTP Status       bert        0        None  \n",
       "4        HTTP Status       bert        0        None  \n",
       "...              ...        ...      ...         ...  \n",
       "2405     HTTP Status       bert        0        None  \n",
       "2406  Security Alert       bert        7        None  \n",
       "2407     HTTP Status       bert        0        None  \n",
       "2408  Critical Error       bert        1        None  \n",
       "2409  Security Alert       bert        7        None  \n",
       "\n",
       "[1903 rows x 7 columns]"
      ],
      "text/html": [
       "<div>\n",
       "<style scoped>\n",
       "    .dataframe tbody tr th:only-of-type {\n",
       "        vertical-align: middle;\n",
       "    }\n",
       "\n",
       "    .dataframe tbody tr th {\n",
       "        vertical-align: top;\n",
       "    }\n",
       "\n",
       "    .dataframe thead th {\n",
       "        text-align: right;\n",
       "    }\n",
       "</style>\n",
       "<table border=\"1\" class=\"dataframe\">\n",
       "  <thead>\n",
       "    <tr style=\"text-align: right;\">\n",
       "      <th></th>\n",
       "      <th>timestamp</th>\n",
       "      <th>source</th>\n",
       "      <th>log_message</th>\n",
       "      <th>target_label</th>\n",
       "      <th>complexity</th>\n",
       "      <th>cluster</th>\n",
       "      <th>regex_label</th>\n",
       "    </tr>\n",
       "  </thead>\n",
       "  <tbody>\n",
       "    <tr>\n",
       "      <th>0</th>\n",
       "      <td>2025-06-27 07:20:25</td>\n",
       "      <td>ModernCRM</td>\n",
       "      <td>nova.osapi_compute.wsgi.server [req-b9718cd8-f65e-49cc-8349-6cf7122af137 113d3a99c3da401fbd62cc2caa5b96d2 54fadb412c4e40cdbaed9335e4c35a9e - - -] 10.11.10.1 \"GET /v2/54fadb412c4e40cdbaed9335e4c35a9e/servers/detail HTTP/1.1\" status: 200 len: 1893 time: 0.2675118</td>\n",
       "      <td>HTTP Status</td>\n",
       "      <td>bert</td>\n",
       "      <td>0</td>\n",
       "      <td>None</td>\n",
       "    </tr>\n",
       "    <tr>\n",
       "      <th>1</th>\n",
       "      <td>1/14/2025 23:07</td>\n",
       "      <td>ModernCRM</td>\n",
       "      <td>Email service experiencing issues with sending</td>\n",
       "      <td>Critical Error</td>\n",
       "      <td>bert</td>\n",
       "      <td>1</td>\n",
       "      <td>None</td>\n",
       "    </tr>\n",
       "    <tr>\n",
       "      <th>2</th>\n",
       "      <td>1/17/2025 1:29</td>\n",
       "      <td>AnalyticsEngine</td>\n",
       "      <td>Unauthorized access to data was attempted</td>\n",
       "      <td>Security Alert</td>\n",
       "      <td>bert</td>\n",
       "      <td>2</td>\n",
       "      <td>None</td>\n",
       "    </tr>\n",
       "    <tr>\n",
       "      <th>3</th>\n",
       "      <td>2025-07-12 00:24:16</td>\n",
       "      <td>ModernHR</td>\n",
       "      <td>nova.osapi_compute.wsgi.server [req-4895c258-b2f8-488f-a2a3-4fae63982e48 113d3a99c3da401fbd62cc2caa5b96d2 54fadb412c4e40cdbaed9335e4c35a9e - - -] 10.11.10.1 \"GET /v2/54fadb412c4e40cdbaed9335e4c35a9e/servers/detail HTTP/1.1\" HTTP status code -  200 len: 211 time: 0.0968180</td>\n",
       "      <td>HTTP Status</td>\n",
       "      <td>bert</td>\n",
       "      <td>0</td>\n",
       "      <td>None</td>\n",
       "    </tr>\n",
       "    <tr>\n",
       "      <th>4</th>\n",
       "      <td>2025-06-02 18:25:23</td>\n",
       "      <td>BillingSystem</td>\n",
       "      <td>nova.osapi_compute.wsgi.server [req-ee8bc8ba-9265-4280-9215-dbe000a41209 113d3a99c3da401fbd62cc2caa5b96d2 54fadb412c4e40cdbaed9335e4c35a9e - - -] 10.11.10.1 \"GET /v2/54fadb412c4e40cdbaed9335e4c35a9e/servers/detail HTTP/1.1\" RCODE  200 len: 1874 time: 0.2280791</td>\n",
       "      <td>HTTP Status</td>\n",
       "      <td>bert</td>\n",
       "      <td>0</td>\n",
       "      <td>None</td>\n",
       "    </tr>\n",
       "    <tr>\n",
       "      <th>...</th>\n",
       "      <td>...</td>\n",
       "      <td>...</td>\n",
       "      <td>...</td>\n",
       "      <td>...</td>\n",
       "      <td>...</td>\n",
       "      <td>...</td>\n",
       "      <td>...</td>\n",
       "    </tr>\n",
       "    <tr>\n",
       "      <th>2405</th>\n",
       "      <td>2025-08-13 07:29:25</td>\n",
       "      <td>ModernHR</td>\n",
       "      <td>nova.osapi_compute.wsgi.server [req-96c3ec98-21a0-4af2-84a8-d4989512413e 113d3a99c3da401fbd62cc2caa5b96d2 54fadb412c4e40cdbaed9335e4c35a9e - - -] 10.11.10.1 \"GET /v2/54fadb412c4e40cdbaed9335e4c35a9e/servers/detail HTTP/1.1\" Return code: 200 len: 1916 time: 0.2677610</td>\n",
       "      <td>HTTP Status</td>\n",
       "      <td>bert</td>\n",
       "      <td>0</td>\n",
       "      <td>None</td>\n",
       "    </tr>\n",
       "    <tr>\n",
       "      <th>2406</th>\n",
       "      <td>1/11/2025 5:32</td>\n",
       "      <td>ModernHR</td>\n",
       "      <td>User 3844 account experienced multiple failed logins</td>\n",
       "      <td>Security Alert</td>\n",
       "      <td>bert</td>\n",
       "      <td>7</td>\n",
       "      <td>None</td>\n",
       "    </tr>\n",
       "    <tr>\n",
       "      <th>2407</th>\n",
       "      <td>2025-08-03 03:07:47</td>\n",
       "      <td>ThirdPartyAPI</td>\n",
       "      <td>nova.metadata.wsgi.server [req-b6d4a270-accb-4c3a-8179-9611e52e1768 - - - - -] 10.11.21.124,10.11.10.1 \"GET /openstack/2013-10-17 HTTP/1.1\" RCODE  200 len: 157 time: 0.2249990</td>\n",
       "      <td>HTTP Status</td>\n",
       "      <td>bert</td>\n",
       "      <td>0</td>\n",
       "      <td>None</td>\n",
       "    </tr>\n",
       "    <tr>\n",
       "      <th>2408</th>\n",
       "      <td>11/11/2025 11:52</td>\n",
       "      <td>BillingSystem</td>\n",
       "      <td>Email service affected by failed transmission</td>\n",
       "      <td>Critical Error</td>\n",
       "      <td>bert</td>\n",
       "      <td>1</td>\n",
       "      <td>None</td>\n",
       "    </tr>\n",
       "    <tr>\n",
       "      <th>2409</th>\n",
       "      <td>12/25/2025 13:21</td>\n",
       "      <td>AnalyticsEngine</td>\n",
       "      <td>Repeated failed login attempts occurred for user ID 8555</td>\n",
       "      <td>Security Alert</td>\n",
       "      <td>bert</td>\n",
       "      <td>7</td>\n",
       "      <td>None</td>\n",
       "    </tr>\n",
       "  </tbody>\n",
       "</table>\n",
       "<p>1903 rows × 7 columns</p>\n",
       "</div>"
      ]
     },
     "execution_count": 56,
     "metadata": {},
     "output_type": "execute_result"
    }
   ],
   "execution_count": 56
  },
  {
   "metadata": {
    "ExecuteTime": {
     "end_time": "2025-03-22T05:18:40.736192Z",
     "start_time": "2025-03-22T05:18:40.726126Z"
    }
   },
   "cell_type": "code",
   "source": "df_non_legacy.shape",
   "id": "25cdf79bfe72aa10",
   "outputs": [
    {
     "data": {
      "text/plain": [
       "(1903, 7)"
      ]
     },
     "execution_count": 63,
     "metadata": {},
     "output_type": "execute_result"
    }
   ],
   "execution_count": 63
  },
  {
   "metadata": {
    "ExecuteTime": {
     "end_time": "2025-03-22T05:35:52.388441Z",
     "start_time": "2025-03-22T05:35:19.903964Z"
    }
   },
   "cell_type": "code",
   "source": [
    "model = SentenceTransformer('all-MiniLM-L6-v2')\n",
    "filtered_embeddings = model.encode(df_non_legacy['log_message'].tolist())"
   ],
   "id": "b96b367b64d22c7b",
   "outputs": [],
   "execution_count": 71
  },
  {
   "metadata": {
    "ExecuteTime": {
     "end_time": "2025-03-22T05:36:13.597267Z",
     "start_time": "2025-03-22T05:36:13.587261Z"
    }
   },
   "cell_type": "code",
   "source": "len(filtered_embeddings)",
   "id": "a1ab482b9ec9c36c",
   "outputs": [
    {
     "data": {
      "text/plain": [
       "1903"
      ]
     },
     "execution_count": 72,
     "metadata": {},
     "output_type": "execute_result"
    }
   ],
   "execution_count": 72
  },
  {
   "metadata": {
    "ExecuteTime": {
     "end_time": "2025-03-22T05:36:16.421872Z",
     "start_time": "2025-03-22T05:36:16.414885Z"
    }
   },
   "cell_type": "code",
   "source": [
    "X= filtered_embeddings\n",
    "y= df_non_legacy['target_label'].values"
   ],
   "id": "cc76a36f798a0c47",
   "outputs": [],
   "execution_count": 73
  },
  {
   "metadata": {
    "ExecuteTime": {
     "end_time": "2025-03-22T05:20:32.891103Z",
     "start_time": "2025-03-22T05:20:32.880335Z"
    }
   },
   "cell_type": "code",
   "source": "X",
   "id": "30b8140070acfecf",
   "outputs": [
    {
     "data": {
      "text/plain": [
       "array([[-0.10293963,  0.03354597, -0.02202606, ...,  0.00457792,\n",
       "        -0.04259715,  0.00322619],\n",
       "       [ 0.00804572, -0.03573923,  0.04938739, ...,  0.01538319,\n",
       "        -0.06230947, -0.02774666],\n",
       "       [-0.00908224,  0.13003924, -0.05275568, ...,  0.02014104,\n",
       "        -0.05117098, -0.02930294],\n",
       "       ...,\n",
       "       [-0.04022272,  0.04224353, -0.06610417, ...,  0.0236367 ,\n",
       "        -0.00530877,  0.0204446 ],\n",
       "       [-0.03603455,  0.01960893,  0.10052759, ...,  0.03668107,\n",
       "        -0.02487848, -0.00578847],\n",
       "       [ 0.01457433,  0.04911832, -0.00301354, ...,  0.0102974 ,\n",
       "        -0.00068497,  0.00708861]], shape=(1903, 384), dtype=float32)"
      ]
     },
     "execution_count": 67,
     "metadata": {},
     "output_type": "execute_result"
    }
   ],
   "execution_count": 67
  },
  {
   "metadata": {
    "ExecuteTime": {
     "end_time": "2025-03-22T05:20:40.563160Z",
     "start_time": "2025-03-22T05:20:40.551109Z"
    }
   },
   "cell_type": "code",
   "source": "y",
   "id": "b124de6e1151596",
   "outputs": [
    {
     "data": {
      "text/plain": [
       "array(['HTTP Status', 'Critical Error', 'Security Alert', ...,\n",
       "       'HTTP Status', 'Critical Error', 'Security Alert'],\n",
       "      shape=(1903,), dtype=object)"
      ]
     },
     "execution_count": 68,
     "metadata": {},
     "output_type": "execute_result"
    }
   ],
   "execution_count": 68
  },
  {
   "metadata": {
    "ExecuteTime": {
     "end_time": "2025-03-22T05:36:21.462300Z",
     "start_time": "2025-03-22T05:36:21.358993Z"
    }
   },
   "cell_type": "code",
   "source": [
    "from sklearn.model_selection import train_test_split\n",
    "from sklearn.linear_model import LogisticRegression\n",
    "from sklearn.metrics import accuracy_score\n",
    "from sklearn.metrics import classification_report\n",
    "\n",
    "X_train , X_test ,y_train , y_test = train_test_split(X,y,test_size= 0.3, random_state = 42)\n",
    "clf = LogisticRegression()\n",
    "clf.fit(X_train,y_train)\n",
    "y_pred = clf.predict(X_test)\n",
    "report = classification_report(y_test,y_pred)\n",
    "print(report)"
   ],
   "id": "5b00e026a8fd9edf",
   "outputs": [
    {
     "name": "stdout",
     "output_type": "stream",
     "text": [
      "                precision    recall  f1-score   support\n",
      "\n",
      "Critical Error       0.91      1.00      0.95        48\n",
      "         Error       0.98      0.89      0.93        47\n",
      "   HTTP Status       1.00      1.00      1.00       304\n",
      "Resource Usage       1.00      1.00      1.00        49\n",
      "Security Alert       1.00      0.99      1.00       123\n",
      "\n",
      "      accuracy                           0.99       571\n",
      "     macro avg       0.98      0.98      0.98       571\n",
      "  weighted avg       0.99      0.99      0.99       571\n",
      "\n"
     ]
    }
   ],
   "execution_count": 74
  },
  {
   "metadata": {
    "ExecuteTime": {
     "end_time": "2025-03-22T05:36:24.959410Z",
     "start_time": "2025-03-22T05:36:24.944984Z"
    }
   },
   "cell_type": "code",
   "source": [
    "import joblib\n",
    "joblib.dump(clf,'../models/log_classifier.joblib')"
   ],
   "id": "b87a9db226ee0d19",
   "outputs": [
    {
     "data": {
      "text/plain": [
       "['../models/log_classifier.joblib']"
      ]
     },
     "execution_count": 75,
     "metadata": {},
     "output_type": "execute_result"
    }
   ],
   "execution_count": 75
  }
 ],
 "metadata": {
  "kernelspec": {
   "display_name": "Python 3",
   "language": "python",
   "name": "python3"
  },
  "language_info": {
   "codemirror_mode": {
    "name": "ipython",
    "version": 2
   },
   "file_extension": ".py",
   "mimetype": "text/x-python",
   "name": "python",
   "nbconvert_exporter": "python",
   "pygments_lexer": "ipython2",
   "version": "2.7.6"
  }
 },
 "nbformat": 4,
 "nbformat_minor": 5
}
